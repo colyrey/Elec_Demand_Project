{
 "cells": [
  {
   "cell_type": "markdown",
   "id": "89d3be4e",
   "metadata": {},
   "source": [
    "## 1. DATA\n",
    "\n",
    "#### Data used for this project was obtained from the below websites. Two datasets are included, one provides the half hourly Load Demand in MegaWatts (MW) for Dublin, Ireland, over a period of two years, 2018 to 2020, and the other provides the daily weather data over the same period.\n",
    "\n",
    "https://transparency.entsoe.eu/\n",
    "\n",
    "https://www.met.ie/climate/available-data/historical-data"
   ]
  },
  {
   "cell_type": "code",
   "execution_count": 1,
   "id": "6916ff72",
   "metadata": {},
   "outputs": [],
   "source": [
    "# Import python libraries\n",
    "\n",
    "import pandas as pd\n",
    "import numpy as np\n",
    "import matplotlib.pyplot as plt\n",
    "import seaborn as sns"
   ]
  },
  {
   "cell_type": "markdown",
   "id": "3aeacf9e",
   "metadata": {},
   "source": [
    "## 2. IMPORTING DATA\n",
    "\n",
    "#### Both Datasets are .csv files"
   ]
  },
  {
   "cell_type": "code",
   "execution_count": 2,
   "id": "09636467",
   "metadata": {},
   "outputs": [
    {
     "name": "stdout",
     "output_type": "stream",
     "text": [
      "                           start                        end  Demand (MW)\n",
      "0      2017-06-22 11:00:00+00:00  2017-06-22 11:30:00+00:00         3507\n",
      "1      2017-06-22 11:30:00+00:00  2017-06-22 12:00:00+00:00         3523\n",
      "2      2017-06-22 12:00:00+00:00  2017-06-22 12:30:00+00:00         3535\n",
      "3      2017-06-22 12:30:00+00:00  2017-06-22 13:00:00+00:00         3475\n",
      "4      2017-06-22 13:00:00+00:00  2017-06-22 13:30:00+00:00         3480\n",
      "...                          ...                        ...          ...\n",
      "54233  2020-07-28 09:30:00+00:00  2020-07-28 10:00:00+00:00         3587\n",
      "54234  2020-07-28 10:00:00+00:00  2020-07-28 10:30:00+00:00         3600\n",
      "54235  2020-07-28 10:30:00+00:00  2020-07-28 11:00:00+00:00         3551\n",
      "54236  2020-07-28 11:00:00+00:00  2020-07-28 11:30:00+00:00         3595\n",
      "54237  2020-07-28 11:30:00+00:00  2020-07-28 12:00:00+00:00         3624\n",
      "\n",
      "[54238 rows x 3 columns]\n"
     ]
    },
    {
     "data": {
      "text/plain": [
       "54238"
      ]
     },
     "execution_count": 2,
     "metadata": {},
     "output_type": "execute_result"
    }
   ],
   "source": [
    "# Import Data\n",
    "\n",
    "Demand = pd.read_csv('Demand.csv')\n",
    "\n",
    "print(Demand)\n",
    "\n",
    "len(Demand)"
   ]
  },
  {
   "cell_type": "code",
   "execution_count": 3,
   "id": "40474f65",
   "metadata": {},
   "outputs": [
    {
     "data": {
      "text/html": [
       "<div>\n",
       "<style scoped>\n",
       "    .dataframe tbody tr th:only-of-type {\n",
       "        vertical-align: middle;\n",
       "    }\n",
       "\n",
       "    .dataframe tbody tr th {\n",
       "        vertical-align: top;\n",
       "    }\n",
       "\n",
       "    .dataframe thead th {\n",
       "        text-align: right;\n",
       "    }\n",
       "</style>\n",
       "<table border=\"1\" class=\"dataframe\">\n",
       "  <thead>\n",
       "    <tr style=\"text-align: right;\">\n",
       "      <th></th>\n",
       "      <th>start</th>\n",
       "      <th>end</th>\n",
       "      <th>Demand (MW)</th>\n",
       "    </tr>\n",
       "  </thead>\n",
       "  <tbody>\n",
       "    <tr>\n",
       "      <th>0</th>\n",
       "      <td>2017-06-22 11:00:00+00:00</td>\n",
       "      <td>2017-06-22 11:30:00+00:00</td>\n",
       "      <td>3507</td>\n",
       "    </tr>\n",
       "    <tr>\n",
       "      <th>1</th>\n",
       "      <td>2017-06-22 11:30:00+00:00</td>\n",
       "      <td>2017-06-22 12:00:00+00:00</td>\n",
       "      <td>3523</td>\n",
       "    </tr>\n",
       "    <tr>\n",
       "      <th>2</th>\n",
       "      <td>2017-06-22 12:00:00+00:00</td>\n",
       "      <td>2017-06-22 12:30:00+00:00</td>\n",
       "      <td>3535</td>\n",
       "    </tr>\n",
       "    <tr>\n",
       "      <th>3</th>\n",
       "      <td>2017-06-22 12:30:00+00:00</td>\n",
       "      <td>2017-06-22 13:00:00+00:00</td>\n",
       "      <td>3475</td>\n",
       "    </tr>\n",
       "    <tr>\n",
       "      <th>4</th>\n",
       "      <td>2017-06-22 13:00:00+00:00</td>\n",
       "      <td>2017-06-22 13:30:00+00:00</td>\n",
       "      <td>3480</td>\n",
       "    </tr>\n",
       "  </tbody>\n",
       "</table>\n",
       "</div>"
      ],
      "text/plain": [
       "                       start                        end  Demand (MW)\n",
       "0  2017-06-22 11:00:00+00:00  2017-06-22 11:30:00+00:00         3507\n",
       "1  2017-06-22 11:30:00+00:00  2017-06-22 12:00:00+00:00         3523\n",
       "2  2017-06-22 12:00:00+00:00  2017-06-22 12:30:00+00:00         3535\n",
       "3  2017-06-22 12:30:00+00:00  2017-06-22 13:00:00+00:00         3475\n",
       "4  2017-06-22 13:00:00+00:00  2017-06-22 13:30:00+00:00         3480"
      ]
     },
     "execution_count": 3,
     "metadata": {},
     "output_type": "execute_result"
    }
   ],
   "source": [
    "Demand.head()"
   ]
  },
  {
   "cell_type": "code",
   "execution_count": 4,
   "id": "70c8e235",
   "metadata": {},
   "outputs": [
    {
     "data": {
      "text/html": [
       "<div>\n",
       "<style scoped>\n",
       "    .dataframe tbody tr th:only-of-type {\n",
       "        vertical-align: middle;\n",
       "    }\n",
       "\n",
       "    .dataframe tbody tr th {\n",
       "        vertical-align: top;\n",
       "    }\n",
       "\n",
       "    .dataframe thead th {\n",
       "        text-align: right;\n",
       "    }\n",
       "</style>\n",
       "<table border=\"1\" class=\"dataframe\">\n",
       "  <thead>\n",
       "    <tr style=\"text-align: right;\">\n",
       "      <th></th>\n",
       "      <th>start</th>\n",
       "      <th>end</th>\n",
       "      <th>Demand (MW)</th>\n",
       "    </tr>\n",
       "  </thead>\n",
       "  <tbody>\n",
       "    <tr>\n",
       "      <th>54233</th>\n",
       "      <td>2020-07-28 09:30:00+00:00</td>\n",
       "      <td>2020-07-28 10:00:00+00:00</td>\n",
       "      <td>3587</td>\n",
       "    </tr>\n",
       "    <tr>\n",
       "      <th>54234</th>\n",
       "      <td>2020-07-28 10:00:00+00:00</td>\n",
       "      <td>2020-07-28 10:30:00+00:00</td>\n",
       "      <td>3600</td>\n",
       "    </tr>\n",
       "    <tr>\n",
       "      <th>54235</th>\n",
       "      <td>2020-07-28 10:30:00+00:00</td>\n",
       "      <td>2020-07-28 11:00:00+00:00</td>\n",
       "      <td>3551</td>\n",
       "    </tr>\n",
       "    <tr>\n",
       "      <th>54236</th>\n",
       "      <td>2020-07-28 11:00:00+00:00</td>\n",
       "      <td>2020-07-28 11:30:00+00:00</td>\n",
       "      <td>3595</td>\n",
       "    </tr>\n",
       "    <tr>\n",
       "      <th>54237</th>\n",
       "      <td>2020-07-28 11:30:00+00:00</td>\n",
       "      <td>2020-07-28 12:00:00+00:00</td>\n",
       "      <td>3624</td>\n",
       "    </tr>\n",
       "  </tbody>\n",
       "</table>\n",
       "</div>"
      ],
      "text/plain": [
       "                           start                        end  Demand (MW)\n",
       "54233  2020-07-28 09:30:00+00:00  2020-07-28 10:00:00+00:00         3587\n",
       "54234  2020-07-28 10:00:00+00:00  2020-07-28 10:30:00+00:00         3600\n",
       "54235  2020-07-28 10:30:00+00:00  2020-07-28 11:00:00+00:00         3551\n",
       "54236  2020-07-28 11:00:00+00:00  2020-07-28 11:30:00+00:00         3595\n",
       "54237  2020-07-28 11:30:00+00:00  2020-07-28 12:00:00+00:00         3624"
      ]
     },
     "execution_count": 4,
     "metadata": {},
     "output_type": "execute_result"
    }
   ],
   "source": [
    "Demand.tail()"
   ]
  },
  {
   "cell_type": "code",
   "execution_count": 5,
   "id": "3ee41440",
   "metadata": {},
   "outputs": [
    {
     "name": "stdout",
     "output_type": "stream",
     "text": [
      "     Station Name: PHOENIX PARK Unnamed: 1 Unnamed: 2 Unnamed: 3 Unnamed: 4\n",
      "0         Station Height: 48 M         NaN        NaN        NaN        NaN\n",
      "1             Latitude:53.364          NaN        NaN        NaN        NaN\n",
      "2                           NaN        NaN        NaN        NaN        NaN\n",
      "3                           NaN        NaN        NaN        NaN        NaN\n",
      "4        date:  -  00 to 00 utc        NaN        NaN        NaN        NaN\n",
      "...                         ...        ...        ...        ...        ...\n",
      "1102                  27-Dec-20        6.2        1.2        4.1      3.999\n",
      "1103                  28-Dec-20        5.3        2.7        1.2      3.757\n",
      "1104                  29-Dec-20        5.8        1.1        0.3      3.003\n",
      "1105                  30-Dec-20        2.8       -1.5          0       2.03\n",
      "1106                  31-Dec-20        4.7       -1.7        1.7       1.46\n",
      "\n",
      "[1107 rows x 5 columns]\n"
     ]
    },
    {
     "data": {
      "text/plain": [
       "1107"
      ]
     },
     "execution_count": 5,
     "metadata": {},
     "output_type": "execute_result"
    }
   ],
   "source": [
    "# Import Data\n",
    "\n",
    "Weather = pd.read_csv('Weather.csv')\n",
    "\n",
    "print(Weather)\n",
    "\n",
    "len(Weather)"
   ]
  },
  {
   "cell_type": "code",
   "execution_count": 6,
   "id": "1875f9b0",
   "metadata": {},
   "outputs": [
    {
     "data": {
      "text/html": [
       "<div>\n",
       "<style scoped>\n",
       "    .dataframe tbody tr th:only-of-type {\n",
       "        vertical-align: middle;\n",
       "    }\n",
       "\n",
       "    .dataframe tbody tr th {\n",
       "        vertical-align: top;\n",
       "    }\n",
       "\n",
       "    .dataframe thead th {\n",
       "        text-align: right;\n",
       "    }\n",
       "</style>\n",
       "<table border=\"1\" class=\"dataframe\">\n",
       "  <thead>\n",
       "    <tr style=\"text-align: right;\">\n",
       "      <th></th>\n",
       "      <th>Station Name: PHOENIX PARK</th>\n",
       "      <th>Unnamed: 1</th>\n",
       "      <th>Unnamed: 2</th>\n",
       "      <th>Unnamed: 3</th>\n",
       "      <th>Unnamed: 4</th>\n",
       "    </tr>\n",
       "  </thead>\n",
       "  <tbody>\n",
       "    <tr>\n",
       "      <th>0</th>\n",
       "      <td>Station Height: 48 M</td>\n",
       "      <td>NaN</td>\n",
       "      <td>NaN</td>\n",
       "      <td>NaN</td>\n",
       "      <td>NaN</td>\n",
       "    </tr>\n",
       "    <tr>\n",
       "      <th>1</th>\n",
       "      <td>Latitude:53.364</td>\n",
       "      <td>NaN</td>\n",
       "      <td>NaN</td>\n",
       "      <td>NaN</td>\n",
       "      <td>NaN</td>\n",
       "    </tr>\n",
       "    <tr>\n",
       "      <th>2</th>\n",
       "      <td>NaN</td>\n",
       "      <td>NaN</td>\n",
       "      <td>NaN</td>\n",
       "      <td>NaN</td>\n",
       "      <td>NaN</td>\n",
       "    </tr>\n",
       "    <tr>\n",
       "      <th>3</th>\n",
       "      <td>NaN</td>\n",
       "      <td>NaN</td>\n",
       "      <td>NaN</td>\n",
       "      <td>NaN</td>\n",
       "      <td>NaN</td>\n",
       "    </tr>\n",
       "    <tr>\n",
       "      <th>4</th>\n",
       "      <td>date:  -  00 to 00 utc</td>\n",
       "      <td>NaN</td>\n",
       "      <td>NaN</td>\n",
       "      <td>NaN</td>\n",
       "      <td>NaN</td>\n",
       "    </tr>\n",
       "  </tbody>\n",
       "</table>\n",
       "</div>"
      ],
      "text/plain": [
       "  Station Name: PHOENIX PARK Unnamed: 1 Unnamed: 2 Unnamed: 3 Unnamed: 4\n",
       "0      Station Height: 48 M         NaN        NaN        NaN        NaN\n",
       "1          Latitude:53.364          NaN        NaN        NaN        NaN\n",
       "2                        NaN        NaN        NaN        NaN        NaN\n",
       "3                        NaN        NaN        NaN        NaN        NaN\n",
       "4     date:  -  00 to 00 utc        NaN        NaN        NaN        NaN"
      ]
     },
     "execution_count": 6,
     "metadata": {},
     "output_type": "execute_result"
    }
   ],
   "source": [
    "Weather.head()"
   ]
  },
  {
   "cell_type": "code",
   "execution_count": 9,
   "id": "0b443cf3",
   "metadata": {},
   "outputs": [
    {
     "data": {
      "text/html": [
       "<div>\n",
       "<style scoped>\n",
       "    .dataframe tbody tr th:only-of-type {\n",
       "        vertical-align: middle;\n",
       "    }\n",
       "\n",
       "    .dataframe tbody tr th {\n",
       "        vertical-align: top;\n",
       "    }\n",
       "\n",
       "    .dataframe thead th {\n",
       "        text-align: right;\n",
       "    }\n",
       "</style>\n",
       "<table border=\"1\" class=\"dataframe\">\n",
       "  <thead>\n",
       "    <tr style=\"text-align: right;\">\n",
       "      <th></th>\n",
       "      <th>date</th>\n",
       "      <th>maxtemp</th>\n",
       "      <th>mintemp</th>\n",
       "      <th>rainfall</th>\n",
       "      <th>soiltemp</th>\n",
       "    </tr>\n",
       "  </thead>\n",
       "  <tbody>\n",
       "    <tr>\n",
       "      <th>0</th>\n",
       "      <td>Station Height: 48 M</td>\n",
       "      <td>NaN</td>\n",
       "      <td>NaN</td>\n",
       "      <td>NaN</td>\n",
       "      <td>NaN</td>\n",
       "    </tr>\n",
       "    <tr>\n",
       "      <th>1</th>\n",
       "      <td>Latitude:53.364</td>\n",
       "      <td>NaN</td>\n",
       "      <td>NaN</td>\n",
       "      <td>NaN</td>\n",
       "      <td>NaN</td>\n",
       "    </tr>\n",
       "    <tr>\n",
       "      <th>2</th>\n",
       "      <td>NaN</td>\n",
       "      <td>NaN</td>\n",
       "      <td>NaN</td>\n",
       "      <td>NaN</td>\n",
       "      <td>NaN</td>\n",
       "    </tr>\n",
       "    <tr>\n",
       "      <th>3</th>\n",
       "      <td>NaN</td>\n",
       "      <td>NaN</td>\n",
       "      <td>NaN</td>\n",
       "      <td>NaN</td>\n",
       "      <td>NaN</td>\n",
       "    </tr>\n",
       "    <tr>\n",
       "      <th>4</th>\n",
       "      <td>date:  -  00 to 00 utc</td>\n",
       "      <td>NaN</td>\n",
       "      <td>NaN</td>\n",
       "      <td>NaN</td>\n",
       "      <td>NaN</td>\n",
       "    </tr>\n",
       "  </tbody>\n",
       "</table>\n",
       "</div>"
      ],
      "text/plain": [
       "                     date maxtemp mintemp rainfall soiltemp\n",
       "0   Station Height: 48 M      NaN     NaN      NaN      NaN\n",
       "1       Latitude:53.364       NaN     NaN      NaN      NaN\n",
       "2                     NaN     NaN     NaN      NaN      NaN\n",
       "3                     NaN     NaN     NaN      NaN      NaN\n",
       "4  date:  -  00 to 00 utc     NaN     NaN      NaN      NaN"
      ]
     },
     "execution_count": 9,
     "metadata": {},
     "output_type": "execute_result"
    }
   ],
   "source": [
    "Weather.head()"
   ]
  },
  {
   "cell_type": "code",
   "execution_count": 8,
   "id": "2721be8c",
   "metadata": {},
   "outputs": [
    {
     "data": {
      "text/html": [
       "<div>\n",
       "<style scoped>\n",
       "    .dataframe tbody tr th:only-of-type {\n",
       "        vertical-align: middle;\n",
       "    }\n",
       "\n",
       "    .dataframe tbody tr th {\n",
       "        vertical-align: top;\n",
       "    }\n",
       "\n",
       "    .dataframe thead th {\n",
       "        text-align: right;\n",
       "    }\n",
       "</style>\n",
       "<table border=\"1\" class=\"dataframe\">\n",
       "  <thead>\n",
       "    <tr style=\"text-align: right;\">\n",
       "      <th></th>\n",
       "      <th>date</th>\n",
       "      <th>maxtemp</th>\n",
       "      <th>mintemp</th>\n",
       "      <th>rainfall</th>\n",
       "      <th>soiltemp</th>\n",
       "    </tr>\n",
       "  </thead>\n",
       "  <tbody>\n",
       "    <tr>\n",
       "      <th>0</th>\n",
       "      <td>Station Height: 48 M</td>\n",
       "      <td>NaN</td>\n",
       "      <td>NaN</td>\n",
       "      <td>NaN</td>\n",
       "      <td>NaN</td>\n",
       "    </tr>\n",
       "    <tr>\n",
       "      <th>1</th>\n",
       "      <td>Latitude:53.364</td>\n",
       "      <td>NaN</td>\n",
       "      <td>NaN</td>\n",
       "      <td>NaN</td>\n",
       "      <td>NaN</td>\n",
       "    </tr>\n",
       "    <tr>\n",
       "      <th>2</th>\n",
       "      <td>NaN</td>\n",
       "      <td>NaN</td>\n",
       "      <td>NaN</td>\n",
       "      <td>NaN</td>\n",
       "      <td>NaN</td>\n",
       "    </tr>\n",
       "    <tr>\n",
       "      <th>3</th>\n",
       "      <td>NaN</td>\n",
       "      <td>NaN</td>\n",
       "      <td>NaN</td>\n",
       "      <td>NaN</td>\n",
       "      <td>NaN</td>\n",
       "    </tr>\n",
       "    <tr>\n",
       "      <th>4</th>\n",
       "      <td>date:  -  00 to 00 utc</td>\n",
       "      <td>NaN</td>\n",
       "      <td>NaN</td>\n",
       "      <td>NaN</td>\n",
       "      <td>NaN</td>\n",
       "    </tr>\n",
       "  </tbody>\n",
       "</table>\n",
       "</div>"
      ],
      "text/plain": [
       "                     date maxtemp mintemp rainfall soiltemp\n",
       "0   Station Height: 48 M      NaN     NaN      NaN      NaN\n",
       "1       Latitude:53.364       NaN     NaN      NaN      NaN\n",
       "2                     NaN     NaN     NaN      NaN      NaN\n",
       "3                     NaN     NaN     NaN      NaN      NaN\n",
       "4  date:  -  00 to 00 utc     NaN     NaN      NaN      NaN"
      ]
     },
     "execution_count": 8,
     "metadata": {},
     "output_type": "execute_result"
    }
   ],
   "source": [
    "Weather.columns = ['date', 'maxtemp', 'mintemp', 'rainfall', 'soiltemp' ]\n",
    "\n",
    "Weather.head()"
   ]
  },
  {
   "cell_type": "markdown",
   "id": "b0271985",
   "metadata": {},
   "source": [
    "## 3. DATA PREPARATION"
   ]
  },
  {
   "cell_type": "code",
   "execution_count": null,
   "id": "220e05c8",
   "metadata": {},
   "outputs": [],
   "source": [
    "# Create Pandas DataFrame\n",
    "\n",
    "\n",
    "\n"
   ]
  },
  {
   "cell_type": "code",
   "execution_count": null,
   "id": "1c619c06",
   "metadata": {},
   "outputs": [],
   "source": []
  }
 ],
 "metadata": {
  "kernelspec": {
   "display_name": "Python 3 (ipykernel)",
   "language": "python",
   "name": "python3"
  },
  "language_info": {
   "codemirror_mode": {
    "name": "ipython",
    "version": 3
   },
   "file_extension": ".py",
   "mimetype": "text/x-python",
   "name": "python",
   "nbconvert_exporter": "python",
   "pygments_lexer": "ipython3",
   "version": "3.9.13"
  }
 },
 "nbformat": 4,
 "nbformat_minor": 5
}
